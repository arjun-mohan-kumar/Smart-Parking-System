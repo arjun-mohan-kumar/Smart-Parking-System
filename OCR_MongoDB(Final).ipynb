{
 "cells": [
  {
   "cell_type": "code",
   "execution_count": 2,
   "metadata": {},
   "outputs": [],
   "source": [
    "import cv2, numpy as np,pytesseract,imutils\n",
    "img=\"F:\\\\PSG_IAS_notes\\\\Python_PSG\\\\Project(Smart parking)\\\\image\\\\img01.jpg\"\n",
    "#img = cv2.resize(img, (620,480) )\n",
    "img = cv2.imread(img,cv2.IMREAD_COLOR)\n",
    "gray = cv2.cvtColor(img, cv2.COLOR_BGR2GRAY) #convert img into grayscale"
   ]
  },
  {
   "cell_type": "code",
   "execution_count": 3,
   "metadata": {},
   "outputs": [],
   "source": [
    "cv2.imshow(\"img\",gray) #display img\n",
    "cv2.waitKey(0)\n",
    "cv2.destroyAllWindows()"
   ]
  },
  {
   "cell_type": "code",
   "execution_count": 4,
   "metadata": {},
   "outputs": [],
   "source": [
    "img_blur = cv2.GaussianBlur(gray, (3,3), 0) #applying gaussian blur\n",
    "#img_blur = cv2.bilateralFilter(gray, 13, 15, 15)\n",
    "cv2.imshow(\"img\",img_blur) #display img\n",
    "cv2.waitKey(0)\n",
    "cv2.destroyAllWindows()"
   ]
  },
  {
   "cell_type": "code",
   "execution_count": 5,
   "metadata": {},
   "outputs": [],
   "source": [
    "edged = cv2.Canny(gray, 30, 200) #Perform Edge detection\n",
    "cv2.imshow(\"img\",edged) #display img\n",
    "cv2.waitKey(0)\n",
    "cv2.destroyAllWindows()"
   ]
  },
  {
   "cell_type": "code",
   "execution_count": 6,
   "metadata": {},
   "outputs": [],
   "source": [
    "#countour detection\n",
    "contours=cv2.findContours(edged.copy(),cv2.RETR_TREE,cv2.CHAIN_APPROX_SIMPLE)\n",
    "contours = imutils.grab_contours(contours)\n",
    "contours = sorted(contours,key=cv2.contourArea, reverse = True)[:10]\n",
    "screenCnt = None"
   ]
  },
  {
   "cell_type": "code",
   "execution_count": 7,
   "metadata": {},
   "outputs": [
    {
     "name": "stdout",
     "output_type": "stream",
     "text": [
      "2\n"
     ]
    }
   ],
   "source": [
    "contours1=cv2.findContours(edged.copy(),cv2.RETR_TREE,cv2.CHAIN_APPROX_SIMPLE)\n",
    "print(len(contours1))"
   ]
  },
  {
   "cell_type": "code",
   "execution_count": 8,
   "metadata": {},
   "outputs": [],
   "source": [
    "for c in contours:\n",
    "    \n",
    "    peri = cv2.arcLength(c, True)\n",
    "    approx = cv2.approxPolyDP(c, 0.018 * peri, True)\n",
    " \n",
    "    if len(approx) == 4:\n",
    "        screenCnt = approx\n",
    "        break\n",
    "\n",
    "if screenCnt is None:\n",
    "    detected = 0\n",
    "    print (\"No contour detected\")\n",
    "else:\n",
    "     detected = 1\n",
    "\n",
    "if detected == 1:\n",
    "    cv2.drawContours(img, [screenCnt], -1, (0, 0, 255), 3)\n",
    "\n",
    "mask = np.zeros(gray.shape,np.uint8)\n",
    "new_image = cv2.drawContours(mask,[screenCnt],0,255,-1,)\n",
    "new_image = cv2.bitwise_and(img,img,mask=mask)\n",
    "\n",
    "cv2.imshow(\"img\",new_image) #display img\n",
    "cv2.waitKey(0)\n",
    "cv2.destroyAllWindows()\n"
   ]
  },
  {
   "cell_type": "code",
   "execution_count": 9,
   "metadata": {},
   "outputs": [],
   "source": [
    "(x, y) = np.where(mask == 255)\n",
    "(topx, topy) = (np.min(x), np.min(y))\n",
    "(bottomx, bottomy) = (np.max(x), np.max(y))\n",
    "Cropped = gray[topx:bottomx+1, topy:bottomy+1]\n",
    "cv2.imshow(\"img\",Cropped) #display img\n",
    "cv2.waitKey(0)\n",
    "cv2.destroyAllWindows()"
   ]
  },
  {
   "cell_type": "code",
   "execution_count": 10,
   "metadata": {},
   "outputs": [
    {
     "name": "stdout",
     "output_type": "stream",
     "text": [
      "Detected license plate Number is: MH 20 EE 7598)\n",
      "\f\n"
     ]
    }
   ],
   "source": [
    "#Read the number plate\n",
    "import pytesseract\n",
    "pytesseract.pytesseract.tesseract_cmd = r'C:\\\\Users\\\\Arjun\\\\AppData\\\\Local\\\\Programs\\\\Tesseract-OCR\\\\tesseract.exe'\n",
    "text = pytesseract.image_to_string(Cropped, config='--psm 10')\n",
    "print(\"Detected license plate Number is:\", text)"
   ]
  },
  {
   "cell_type": "code",
   "execution_count": 11,
   "metadata": {},
   "outputs": [
    {
     "name": "stdout",
     "output_type": "stream",
     "text": [
      "MH20EE7598\n"
     ]
    }
   ],
   "source": [
    "plate=\"\"\n",
    "for x in text.upper():\n",
    "    if (ord(x) >= ord('A') and ord(x)<=ord('Z')) or (ord(x) >=ord('0') and ord(x)<=ord('9')):\n",
    "        plate+=x\n",
    "print(plate)"
   ]
  },
  {
   "cell_type": "code",
   "execution_count": 45,
   "metadata": {},
   "outputs": [],
   "source": [
    "import pymongo\n",
    "myclient = pymongo.MongoClient(\"mongodb://localhost:27017/\") #connecting to the mongo db server using the respective connection string\n",
    "mydb = myclient[\"Parking-DB\"]#creating a database named Parking-DB\n",
    "mycol = mydb[\"Index\"]#Creating a collection named Index in the above DB i.e. it is used for referencing the available DB for parking slots\n",
    "#mydict = { \"B1\": \"\" }\n",
    "\n",
    "#x = mycol.insert_one(mydict)\n",
    "#myclient.list_database_names()"
   ]
  },
  {
   "cell_type": "code",
   "execution_count": 46,
   "metadata": {},
   "outputs": [],
   "source": [
    "x=[None,None,None]#x is for creating multiple data in the Index collection\n",
    "for i in range(3):\n",
    "    basement='B'+str(i+1)\n",
    "    mydict = { \"_id\": basement,\"Parking_count\":0 }\n",
    "    x[i] = mycol.insert_one(mydict) #initially the data is in form of id as basement nos. and parking count as 0"
   ]
  },
  {
   "cell_type": "code",
   "execution_count": 47,
   "metadata": {},
   "outputs": [],
   "source": [
    "bases=[None,None,None] # bases is used for creating multiple basement collections\n",
    "slots=[[None for j in range(5)]for i in range(3)] # slots is used for creating multiple slot entries\n",
    "for i in range(3):\n",
    "    basement='B'+str(i+1) #creates collection names as B1,B2,B3 on respective iterations\n",
    "    bases[i]=mydb[basement] # creates the collection\n",
    "    for j in range(5):\n",
    "        mydict={\"_id\":j+1,\"Reg_No\":\"\",\"Entry_time\":\"\"}\n",
    "        slots[i][j]=bases[i].insert_one(mydict)#initially the data is in form of id as parking slot nos.,Reg.No as \"\",Entry_time as \"\"\n"
   ]
  },
  {
   "cell_type": "code",
   "execution_count": 30,
   "metadata": {},
   "outputs": [
    {
     "data": {
      "text/plain": [
       "[[<pymongo.results.InsertOneResult at 0x2a7cb8690f0>,\n",
       "  <pymongo.results.InsertOneResult at 0x2a7cb868070>,\n",
       "  <pymongo.results.InsertOneResult at 0x2a7cb868c40>,\n",
       "  <pymongo.results.InsertOneResult at 0x2a7cb869f60>,\n",
       "  <pymongo.results.InsertOneResult at 0x2a7cb86a380>],\n",
       " [<pymongo.results.InsertOneResult at 0x2a7cb8680d0>,\n",
       "  <pymongo.results.InsertOneResult at 0x2a7cb869690>,\n",
       "  <pymongo.results.InsertOneResult at 0x2a7cb868790>,\n",
       "  <pymongo.results.InsertOneResult at 0x2a7cb86a440>,\n",
       "  <pymongo.results.InsertOneResult at 0x2a7cb868f40>],\n",
       " [<pymongo.results.InsertOneResult at 0x2a7cd663940>,\n",
       "  <pymongo.results.InsertOneResult at 0x2a7cd663a90>,\n",
       "  <pymongo.results.InsertOneResult at 0x2a7cd6638e0>,\n",
       "  <pymongo.results.InsertOneResult at 0x2a7cd663820>,\n",
       "  <pymongo.results.InsertOneResult at 0x2a7cd663460>]]"
      ]
     },
     "execution_count": 30,
     "metadata": {},
     "output_type": "execute_result"
    }
   ],
   "source": [
    "slots"
   ]
  },
  {
   "cell_type": "code",
   "execution_count": 9,
   "metadata": {},
   "outputs": [
    {
     "data": {
      "text/plain": [
       "['Index-DB', 'admin', 'config', 'local']"
      ]
     },
     "execution_count": 9,
     "metadata": {},
     "output_type": "execute_result"
    }
   ],
   "source": [
    "#mydict = { \"Reg.No\": \"\", \"Entry_time\": \"\" }\n",
    "\n",
    "#x = mycol.insert_one(mydict)\n",
    "#myclient.list_database_names()"
   ]
  },
  {
   "cell_type": "code",
   "execution_count": 10,
   "metadata": {},
   "outputs": [
    {
     "data": {
      "text/plain": [
       "<pymongo.results.DeleteResult at 0x2a7cd663d60>"
      ]
     },
     "execution_count": 10,
     "metadata": {},
     "output_type": "execute_result"
    }
   ],
   "source": [
    "#myquery = {  \"Entry_time\": \"\" }\n",
    "\n",
    "#mycol.delete_one(myquery)"
   ]
  },
  {
   "cell_type": "code",
   "execution_count": 25,
   "metadata": {},
   "outputs": [
    {
     "data": {
      "text/plain": [
       "<pymongo.results.DeleteResult at 0x2a7cf2998a0>"
      ]
     },
     "execution_count": 25,
     "metadata": {},
     "output_type": "execute_result"
    }
   ],
   "source": [
    "#used for deleting data based on condition\n",
    "myquery = {  \"Parking_count\": 0 }\n",
    "\n",
    "mycol.delete_many(myquery)"
   ]
  },
  {
   "cell_type": "code",
   "execution_count": 26,
   "metadata": {},
   "outputs": [],
   "source": [
    "#used to drop a collection \n",
    "mycol.drop()"
   ]
  },
  {
   "cell_type": "code",
   "execution_count": 17,
   "metadata": {},
   "outputs": [
    {
     "data": {
      "text/plain": [
       "{'_id': 'B1', 'Parking_count': 5}"
      ]
     },
     "execution_count": 17,
     "metadata": {},
     "output_type": "execute_result"
    }
   ],
   "source": [
    "# base idea code for changing the number of parking spaces in index collection\n",
    "myquery = { \"Parking_count\": { \"$lt\": 5 } } \n",
    "mydoc = mycol.find_one(myquery)\n",
    "val=mydoc[\"Parking_count\"]\n",
    "newvalues = { \"$set\": {\"Parking_count\": val+1 } }\n",
    "mycol.update_one(myquery, newvalues)\n",
    "mydoc"
   ]
  },
  {
   "cell_type": "code",
   "execution_count": 115,
   "metadata": {},
   "outputs": [
    {
     "data": {
      "text/plain": [
       "<pymongo.results.UpdateResult at 0x178ea69cf10>"
      ]
     },
     "execution_count": 115,
     "metadata": {},
     "output_type": "execute_result"
    }
   ],
   "source": [
    "#reset\n",
    "myquery = { \"Parking_count\": { \"$lte\": 6 } }\n",
    "newvalues = { \"$set\": {\"Parking_count\": 0 } } \n",
    "mycol.update_many(myquery, newvalues)"
   ]
  },
  {
   "cell_type": "code",
   "execution_count": 54,
   "metadata": {},
   "outputs": [
    {
     "data": {
      "text/plain": [
       "<pymongo.results.UpdateResult at 0x1521bc42a70>"
      ]
     },
     "execution_count": 54,
     "metadata": {},
     "output_type": "execute_result"
    }
   ],
   "source": [
    "#to insert the data(complete code)\n",
    "import datetime\n",
    "myquery = { \"Parking_count\": { \"$lt\": 5 } } \n",
    "mydoc = mycol.find_one(myquery)\n",
    "val=mydoc[\"Parking_count\"]\n",
    "newvalues = { \"$set\": {\"Parking_count\": val+1 } }\n",
    "mycol.update_one(myquery, newvalues)\n",
    "update_col = mydb[str(mydoc[\"_id\"])]\n",
    "myquery1 = {\"Reg_No\":\"\"}\n",
    "mydoc1 = update_col.find_one(myquery1)\n",
    "a=datetime.datetime.now()\n",
    "newvalues1 ={\"$set\":{\"Reg_No\":\"PY01BG4545\",\"Entry_time\":str(a)}} #replace PY01BG4545 with variable plate\n",
    "update_col.update_one(myquery1,newvalues1)\n"
   ]
  },
  {
   "cell_type": "code",
   "execution_count": null,
   "metadata": {},
   "outputs": [],
   "source": []
  },
  {
   "cell_type": "code",
   "execution_count": 55,
   "metadata": {},
   "outputs": [],
   "source": [
    "#used for retrieving the parking info\n",
    "search_string=\"PY01BG4545\" #replace PY01BG4545 with variable plate\n",
    "basements=['B1','B2','B3']\n",
    "base_data=None\n",
    "mydoc2=None\n",
    "for x in basements:\n",
    "    base_data=x\n",
    "    col = mydb[x]\n",
    "    mydoc2 = col.find_one({\"Reg_No\":search_string})\n",
    "    if mydoc2 != None:\n",
    "        break"
   ]
  },
  {
   "cell_type": "code",
   "execution_count": 154,
   "metadata": {},
   "outputs": [
    {
     "data": {
      "image/png": "[encoded data removed]",
      "text/plain": [
       "<qrcode.image.pil.PilImage at 0x178ea6e3730>"
      ]
     },
     "execution_count": 154,
     "metadata": {},
     "output_type": "execute_result"
    }
   ],
   "source": [
    "#qr code generation\n",
    "import qrcode\n",
    "text=\"Basement:\"+str(base_data)+\"\\n Parking no.:\"+str(mydoc2[\"_id\"])+\"\\n Register no:\"+str(mydoc2[\"Reg_No\"])+\"\\n Entry log:\"+str(mydoc2[\"Entry_time\"])\n",
    "qrcode.make(text)"
   ]
  },
  {
   "cell_type": "code",
   "execution_count": 56,
   "metadata": {},
   "outputs": [
    {
     "data": {
      "text/plain": [
       "<pymongo.results.UpdateResult at 0x1521bbf2e60>"
      ]
     },
     "execution_count": 56,
     "metadata": {},
     "output_type": "execute_result"
    }
   ],
   "source": [
    "# deletion from db\n",
    "\n",
    "# first insert the data of that car into history db\n",
    "hist_db = myclient[\"History_DB\"]\n",
    "hist_col = hist_db[\"History_data\"]\n",
    "a1 = hist_col.find_one({\"_id\":search_string})\n",
    "b=datetime.datetime.now()\n",
    "if a1==None:\n",
    "    hist_col.insert_one({\"_id\":search_string,\"Time\":[]})\n",
    "hist_col.update_one({\"_id\":search_string},{\"$push\":{\"Time\":(str(mydoc2[\"Entry_time\"]),str(b))}})\n",
    "mydb[base_data].update_one({\"Reg_No\":search_string},{\"$set\":{\"Reg_No\":\"\",\"Entry_time\":\"\"}})\n",
    "#mydoc2[\"Reg_No\"] = mydoc2[\"Entry_time\"] =\"\"\n",
    "col1 = mydb[\"Index\"]\n",
    "col2 = col1.find_one({\"_id\":base_data})\n",
    "val=col2[\"Parking_count\"]\n",
    "col1.update_one({\"_id\":base_data},{\"$set\":{\"Parking_count\":val-1}})"
   ]
  },
  {
   "cell_type": "code",
   "execution_count": 22,
   "metadata": {},
   "outputs": [],
   "source": [
    "import datetime\n",
    "a=datetime.datetime.now()"
   ]
  },
  {
   "cell_type": "code",
   "execution_count": 27,
   "metadata": {},
   "outputs": [],
   "source": [
    "b=datetime.datetime.now()"
   ]
  },
  {
   "cell_type": "code",
   "execution_count": 28,
   "metadata": {},
   "outputs": [
    {
     "name": "stdout",
     "output_type": "stream",
     "text": [
      "0:01:13.732226\n"
     ]
    }
   ],
   "source": [
    "print(b-a)"
   ]
  }
 ],
 "metadata": {
  "kernelspec": {
   "display_name": "virtualenv2",
   "language": "python",
   "name": "python3"
  },
  "language_info": {
   "codemirror_mode": {
    "name": "ipython",
    "version": 3
   },
   "file_extension": ".py",
   "mimetype": "text/x-python",
   "name": "python",
   "nbconvert_exporter": "python",
   "pygments_lexer": "ipython3",
   "version": "3.10.6"
  },
  "orig_nbformat": 4,
  "vscode": {
   "interpreter": {
    "hash": "934799996742f38862ecb6f6719bf722271d5f3810b3f58a1d651db2ff7a3ead"
   }
  }
 },
 "nbformat": 4,
 "nbformat_minor": 2
}
